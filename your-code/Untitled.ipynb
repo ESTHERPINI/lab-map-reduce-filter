{
 "cells": [
  {
   "cell_type": "code",
   "execution_count": 2,
   "metadata": {},
   "outputs": [
    {
     "ename": "SyntaxError",
     "evalue": "invalid syntax (<ipython-input-2-b41b4de12265>, line 48)",
     "output_type": "error",
     "traceback": [
      "\u001b[1;36m  File \u001b[1;32m\"<ipython-input-2-b41b4de12265>\"\u001b[1;36m, line \u001b[1;32m48\u001b[0m\n\u001b[1;33m    unittest.main()9\u001b[0m\n\u001b[1;37m                   ^\u001b[0m\n\u001b[1;31mSyntaxError\u001b[0m\u001b[1;31m:\u001b[0m invalid syntax\n"
     ]
    }
   ],
   "source": [
    "import unittest\n",
    "from vikingsClasses import Soldier\n",
    "from inspect import signature\n",
    "\n",
    "\n",
    "class TestSoldier(unittest.TestCase):\n",
    "\n",
    "    @classmethod\n",
    "    def setUp(cls):\n",
    "        cls.strength = 150\n",
    "        cls.health = 300\n",
    "        cls.soldier = Soldier(cls.health, cls.strength)\n",
    "\n",
    "    def testConstructorSignature(self):\n",
    "        self.assertEqual(len(signature(Soldier).parameters), 2)\n",
    "\n",
    "    def testHealth(self):\n",
    "        self.assertEqual(self.soldier.health, self.health)\n",
    "\n",
    "    def testStrength(self):\n",
    "        self.assertEqual(self.soldier.strength, self.strength)\n",
    "\n",
    "    def testAttackShouldBeFunction(self):\n",
    "        self.assertEqual(callable(self.soldier.attack), True)\n",
    "\n",
    "    def testAttackHasNoParams(self):\n",
    "        self.assertEqual(len(signature(self.soldier.attack).parameters), 0)\n",
    "\n",
    "    def testAttackRetunsStrength(self):\n",
    "        self.assertEqual(self.soldier.attack(), self.strength)\n",
    "\n",
    "    def testReceivesDamage(self):\n",
    "        self.assertEqual(callable(self.soldier.receiveDamage), True)\n",
    "\n",
    "    def testReceivesDamageHasParams(self):\n",
    "        self.assertEqual(\n",
    "            len(signature(self.soldier.receiveDamage).parameters), 1)\n",
    "\n",
    "    def testReceiveDamageReturnNone(self):\n",
    "        self.assertEqual(self.soldier.receiveDamage(50), None)\n",
    "\n",
    "    def testCanReceiveDamage(self):\n",
    "        self.soldier.receiveDamage(50)\n",
    "        self.assertEqual(self.soldier.health, self.health - 50)\n",
    "\n",
    "\n",
    "if __name__ == '__main__':\n",
    "    unittest.main()9"
   ]
  },
  {
   "cell_type": "code",
   "execution_count": null,
   "metadata": {},
   "outputs": [],
   "source": [
    "888888888888888889i9i8"
   ]
  }
 ],
 "metadata": {
  "kernelspec": {
   "display_name": "Python 3",
   "language": "python",
   "name": "python3"
  },
  "language_info": {
   "codemirror_mode": {
    "name": "ipython",
    "version": 3
   },
   "file_extension": ".py",
   "mimetype": "text/x-python",
   "name": "python",
   "nbconvert_exporter": "python",
   "pygments_lexer": "ipython3",
   "version": "3.8.3"
  }
 },
 "nbformat": 4,
 "nbformat_minor": 4
}
